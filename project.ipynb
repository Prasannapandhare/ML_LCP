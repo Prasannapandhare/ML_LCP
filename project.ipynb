{
  "cells": [
    {
      "cell_type": "markdown",
      "metadata": {
        "id": "5B8qWH4MbbWr"
      },
      "source": [
        "# **Liver Cirrhosis Prediction**\n",
        "* *Dataset : Indian Liver Patient Dataset (ILPD)*\n",
        "\n",
        "![Machine Learning Project](https://user-images.githubusercontent.com/7065401/52071927-c1cd7100-2562-11e9-908a-dde91ba14e59.png)\n"
      ]
    },
    {
      "cell_type": "markdown",
      "metadata": {
        "id": "TJbEMyKbbbWu"
      },
      "source": [
        "#### **What is Liver Cirrhosis?**\n",
        "\n",
        "* **Scarring of Liver Tissue:** Cirrhosis is characterized by the replacement of healthy liver tissue with scar tissue.\n",
        "* **Causes:** Common causes include chronic alcoholism, viral hepatitis (B, C, and others), fatty liver disease, and certain genetic conditions.\n",
        "* **Symptoms:** Symptoms may include fatigue, weakness, easy bruising, swelling in the legs and abdomen, and confusion.\n",
        "* **Treatment:** While the liver damage caused by cirrhosis is irreversible, early diagnosis and lifestyle changes, along with medical management, can help slow its progression and manage symptoms. In severe cases, a liver transplant may be necessary.\n"
      ]
    },
    {
      "cell_type": "markdown",
      "metadata": {
        "id": "AxtttmsAjUUq"
      },
      "source": [
        "---"
      ]
    },
    {
      "cell_type": "markdown",
      "metadata": {
        "id": "WhMwdEzAbbWv"
      },
      "source": [
        "#### Data Dictionary\n",
        "\n",
        "\n",
        "* **Age:** Patient's age.\n",
        "* **Gender:** Patient's gender.\n",
        "* Total Bilirubin: The total amount of bilirubin in the blood, a yellow pigment produced by the breakdown of red blood cells.\n",
        "* **Direct Bilirubin:** The direct fraction of bilirubin, specifically associated with liver function.\n",
        "* **Total Proteins:** The total amount of proteins in the blood, including albumin and globulins.\n",
        "* **Albumin:** A protein synthesized by the liver, crucial for maintaining blood volume and pressure.\n",
        "* **A/G Ratio:** The ratio of albumin to globulins, providing insights into liver and kidney function.\n",
        "* **SGPT (Serum Glutamic Pyruvic Transaminase):** An enzyme indicating liver health; elevated levels may suggest liver damage.\n",
        "* **SGOT (Serum Glutamic Oxaloacetic Transaminase):** Another liver enzyme reflecting liver function; elevated levels may indicate liver problems.\n",
        "* **Alkphos (Alkaline Phosphatase):** An enzyme associated with the biliary system; elevated levels may indicate liver or bone issues.\n"
      ]
    },
    {
      "cell_type": "markdown",
      "metadata": {
        "id": "kxZqKXI7jajW"
      },
      "source": [
        "![ML](https://user-images.githubusercontent.com/7065401/52071924-c003ad80-2562-11e9-8297-1c6595f8a7ff.png)"
      ]
    },
    {
      "cell_type": "markdown",
      "metadata": {
        "id": "nTI9NUxfepSy"
      },
      "source": [
        "## **Mounting Google Drive**"
      ]
    },
    {
      "cell_type": "code",
      "execution_count": 1,
      "metadata": {
        "colab": {
          "base_uri": "https://localhost:8080/"
        },
        "id": "jEm2erRWbe2W",
        "outputId": "8de991ac-d704-4bb3-b7e9-aba25f56ed2f"
      },
      "outputs": [],
      "source": [
        "# from google.colab import drive\n",
        "# drive.mount('/content/drive')"
      ]
    },
    {
      "cell_type": "markdown",
      "metadata": {
        "id": "nJK1LL9CbbWw"
      },
      "source": [
        "# **Importing Libraries and Dataset**\n",
        "\n"
      ]
    },
    {
      "cell_type": "code",
      "execution_count": 2,
      "metadata": {
        "id": "t_qMgc6AbbWx"
      },
      "outputs": [],
      "source": [
        "# %pip install imblearn\n",
        "# %pip install tensorflow\n",
        "# %pip install prettytable\n",
        "# %pip install shap"
      ]
    },
    {
      "cell_type": "code",
      "execution_count": 3,
      "metadata": {
        "id": "Ci3IaNh5bbWy"
      },
      "outputs": [
        {
          "name": "stderr",
          "output_type": "stream",
          "text": [
            "c:\\Users\\Prasanna Pandhare\\AppData\\Local\\Programs\\Python\\Python311\\Lib\\site-packages\\tqdm\\auto.py:21: TqdmWarning: IProgress not found. Please update jupyter and ipywidgets. See https://ipywidgets.readthedocs.io/en/stable/user_install.html\n",
            "  from .autonotebook import tqdm as notebook_tqdm\n"
          ]
        }
      ],
      "source": [
        "import matplotlib.pyplot as plt\n",
        "import seaborn as sns\n",
        "from sklearn.model_selection import train_test_split\n",
        "from sklearn.linear_model import LogisticRegression\n",
        "from sklearn.metrics import accuracy_score, classification_report, confusion_matrix\n",
        "from sklearn.ensemble import RandomForestClassifier\n",
        "from sklearn.neighbors import KNeighborsClassifier\n",
        "from sklearn.naive_bayes import GaussianNB\n",
        "import numpy as np\n",
        "import pandas as pd\n",
        "from sklearn.svm import SVC\n",
        "from imblearn.over_sampling import SMOTE\n",
        "# from tensorflow.keras.models import Sequential\n",
        "# from tensorflow.keras.layers import Dense\n",
        "# from tensorflow.keras.callbacks import EarlyStopping\n",
        "from sklearn.metrics import accuracy_score, classification_report, confusion_matrix\n",
        "import shap\n",
        "from prettytable import PrettyTable"
      ]
    },
    {
      "cell_type": "code",
      "execution_count": 4,
      "metadata": {
        "id": "dtC_YxHqbbWy"
      },
      "outputs": [],
      "source": [
        "df = pd.read_csv(\"E:\\ML_Project\\Indian Liver Patient Dataset (ILPD).csv\")"
      ]
    },
    {
      "cell_type": "markdown",
      "metadata": {
        "id": "1WZBs8Mreu-t"
      },
      "source": [
        "### **Data Description**"
      ]
    },
    {
      "cell_type": "code",
      "execution_count": 5,
      "metadata": {
        "colab": {
          "base_uri": "https://localhost:8080/",
          "height": 206
        },
        "id": "N78in_rwbbWz",
        "outputId": "684a0545-94c8-42a3-ae5c-c28b64c25df7"
      },
      "outputs": [
        {
          "data": {
            "text/html": [
              "<div>\n",
              "<style scoped>\n",
              "    .dataframe tbody tr th:only-of-type {\n",
              "        vertical-align: middle;\n",
              "    }\n",
              "\n",
              "    .dataframe tbody tr th {\n",
              "        vertical-align: top;\n",
              "    }\n",
              "\n",
              "    .dataframe thead th {\n",
              "        text-align: right;\n",
              "    }\n",
              "</style>\n",
              "<table border=\"1\" class=\"dataframe\">\n",
              "  <thead>\n",
              "    <tr style=\"text-align: right;\">\n",
              "      <th></th>\n",
              "      <th>Age</th>\n",
              "      <th>Gender</th>\n",
              "      <th>TB</th>\n",
              "      <th>DB</th>\n",
              "      <th>Alkphos</th>\n",
              "      <th>Sgpt</th>\n",
              "      <th>Sgot</th>\n",
              "      <th>TP</th>\n",
              "      <th>ALB</th>\n",
              "      <th>A/G Ratio</th>\n",
              "      <th>Selector</th>\n",
              "    </tr>\n",
              "  </thead>\n",
              "  <tbody>\n",
              "    <tr>\n",
              "      <th>0</th>\n",
              "      <td>65</td>\n",
              "      <td>Female</td>\n",
              "      <td>0.7</td>\n",
              "      <td>0.1</td>\n",
              "      <td>187</td>\n",
              "      <td>16</td>\n",
              "      <td>18</td>\n",
              "      <td>6.8</td>\n",
              "      <td>3.3</td>\n",
              "      <td>0.90</td>\n",
              "      <td>1</td>\n",
              "    </tr>\n",
              "    <tr>\n",
              "      <th>1</th>\n",
              "      <td>62</td>\n",
              "      <td>Male</td>\n",
              "      <td>10.9</td>\n",
              "      <td>5.5</td>\n",
              "      <td>699</td>\n",
              "      <td>64</td>\n",
              "      <td>100</td>\n",
              "      <td>7.5</td>\n",
              "      <td>3.2</td>\n",
              "      <td>0.74</td>\n",
              "      <td>1</td>\n",
              "    </tr>\n",
              "    <tr>\n",
              "      <th>2</th>\n",
              "      <td>62</td>\n",
              "      <td>Male</td>\n",
              "      <td>7.3</td>\n",
              "      <td>4.1</td>\n",
              "      <td>490</td>\n",
              "      <td>60</td>\n",
              "      <td>68</td>\n",
              "      <td>7.0</td>\n",
              "      <td>3.3</td>\n",
              "      <td>0.89</td>\n",
              "      <td>1</td>\n",
              "    </tr>\n",
              "    <tr>\n",
              "      <th>3</th>\n",
              "      <td>58</td>\n",
              "      <td>Male</td>\n",
              "      <td>1.0</td>\n",
              "      <td>0.4</td>\n",
              "      <td>182</td>\n",
              "      <td>14</td>\n",
              "      <td>20</td>\n",
              "      <td>6.8</td>\n",
              "      <td>3.4</td>\n",
              "      <td>1.00</td>\n",
              "      <td>1</td>\n",
              "    </tr>\n",
              "    <tr>\n",
              "      <th>4</th>\n",
              "      <td>72</td>\n",
              "      <td>Male</td>\n",
              "      <td>3.9</td>\n",
              "      <td>2.0</td>\n",
              "      <td>195</td>\n",
              "      <td>27</td>\n",
              "      <td>59</td>\n",
              "      <td>7.3</td>\n",
              "      <td>2.4</td>\n",
              "      <td>0.40</td>\n",
              "      <td>1</td>\n",
              "    </tr>\n",
              "  </tbody>\n",
              "</table>\n",
              "</div>"
            ],
            "text/plain": [
              "   Age  Gender    TB   DB  Alkphos  Sgpt  Sgot   TP  ALB  A/G Ratio  Selector\n",
              "0   65  Female   0.7  0.1      187    16    18  6.8  3.3       0.90         1\n",
              "1   62    Male  10.9  5.5      699    64   100  7.5  3.2       0.74         1\n",
              "2   62    Male   7.3  4.1      490    60    68  7.0  3.3       0.89         1\n",
              "3   58    Male   1.0  0.4      182    14    20  6.8  3.4       1.00         1\n",
              "4   72    Male   3.9  2.0      195    27    59  7.3  2.4       0.40         1"
            ]
          },
          "execution_count": 5,
          "metadata": {},
          "output_type": "execute_result"
        }
      ],
      "source": [
        "df.head()"
      ]
    },
    {
      "cell_type": "code",
      "execution_count": 6,
      "metadata": {
        "colab": {
          "base_uri": "https://localhost:8080/"
        },
        "id": "AMmoGOQMbbW1",
        "outputId": "eee67398-8bc5-4c07-ab97-46cc62c351a2"
      },
      "outputs": [
        {
          "name": "stdout",
          "output_type": "stream",
          "text": [
            "<class 'pandas.core.frame.DataFrame'>\n",
            "RangeIndex: 583 entries, 0 to 582\n",
            "Data columns (total 11 columns):\n",
            " #   Column     Non-Null Count  Dtype  \n",
            "---  ------     --------------  -----  \n",
            " 0   Age        583 non-null    int64  \n",
            " 1   Gender     583 non-null    object \n",
            " 2   TB         583 non-null    float64\n",
            " 3   DB         583 non-null    float64\n",
            " 4   Alkphos    583 non-null    int64  \n",
            " 5   Sgpt       583 non-null    int64  \n",
            " 6   Sgot       583 non-null    int64  \n",
            " 7   TP         583 non-null    float64\n",
            " 8   ALB        583 non-null    float64\n",
            " 9   A/G Ratio  579 non-null    float64\n",
            " 10  Selector   583 non-null    int64  \n",
            "dtypes: float64(5), int64(5), object(1)\n",
            "memory usage: 50.2+ KB\n"
          ]
        }
      ],
      "source": [
        "df.info()"
      ]
    },
    {
      "cell_type": "code",
      "execution_count": 7,
      "metadata": {
        "colab": {
          "base_uri": "https://localhost:8080/",
          "height": 300
        },
        "id": "lhStSOvhbbW2",
        "outputId": "c545a465-857a-44b5-9b39-bade5b010e35"
      },
      "outputs": [
        {
          "data": {
            "text/html": [
              "<div>\n",
              "<style scoped>\n",
              "    .dataframe tbody tr th:only-of-type {\n",
              "        vertical-align: middle;\n",
              "    }\n",
              "\n",
              "    .dataframe tbody tr th {\n",
              "        vertical-align: top;\n",
              "    }\n",
              "\n",
              "    .dataframe thead th {\n",
              "        text-align: right;\n",
              "    }\n",
              "</style>\n",
              "<table border=\"1\" class=\"dataframe\">\n",
              "  <thead>\n",
              "    <tr style=\"text-align: right;\">\n",
              "      <th></th>\n",
              "      <th>Age</th>\n",
              "      <th>TB</th>\n",
              "      <th>DB</th>\n",
              "      <th>Alkphos</th>\n",
              "      <th>Sgpt</th>\n",
              "      <th>Sgot</th>\n",
              "      <th>TP</th>\n",
              "      <th>ALB</th>\n",
              "      <th>A/G Ratio</th>\n",
              "      <th>Selector</th>\n",
              "    </tr>\n",
              "  </thead>\n",
              "  <tbody>\n",
              "    <tr>\n",
              "      <th>count</th>\n",
              "      <td>583.000000</td>\n",
              "      <td>583.000000</td>\n",
              "      <td>583.000000</td>\n",
              "      <td>583.000000</td>\n",
              "      <td>583.000000</td>\n",
              "      <td>583.000000</td>\n",
              "      <td>583.000000</td>\n",
              "      <td>583.000000</td>\n",
              "      <td>579.000000</td>\n",
              "      <td>583.000000</td>\n",
              "    </tr>\n",
              "    <tr>\n",
              "      <th>mean</th>\n",
              "      <td>44.746141</td>\n",
              "      <td>3.298799</td>\n",
              "      <td>1.486106</td>\n",
              "      <td>290.576329</td>\n",
              "      <td>80.713551</td>\n",
              "      <td>109.910806</td>\n",
              "      <td>6.483190</td>\n",
              "      <td>3.141852</td>\n",
              "      <td>0.947064</td>\n",
              "      <td>1.286449</td>\n",
              "    </tr>\n",
              "    <tr>\n",
              "      <th>std</th>\n",
              "      <td>16.189833</td>\n",
              "      <td>6.209522</td>\n",
              "      <td>2.808498</td>\n",
              "      <td>242.937989</td>\n",
              "      <td>182.620356</td>\n",
              "      <td>288.918529</td>\n",
              "      <td>1.085451</td>\n",
              "      <td>0.795519</td>\n",
              "      <td>0.319592</td>\n",
              "      <td>0.452490</td>\n",
              "    </tr>\n",
              "    <tr>\n",
              "      <th>min</th>\n",
              "      <td>4.000000</td>\n",
              "      <td>0.400000</td>\n",
              "      <td>0.100000</td>\n",
              "      <td>63.000000</td>\n",
              "      <td>10.000000</td>\n",
              "      <td>10.000000</td>\n",
              "      <td>2.700000</td>\n",
              "      <td>0.900000</td>\n",
              "      <td>0.300000</td>\n",
              "      <td>1.000000</td>\n",
              "    </tr>\n",
              "    <tr>\n",
              "      <th>25%</th>\n",
              "      <td>33.000000</td>\n",
              "      <td>0.800000</td>\n",
              "      <td>0.200000</td>\n",
              "      <td>175.500000</td>\n",
              "      <td>23.000000</td>\n",
              "      <td>25.000000</td>\n",
              "      <td>5.800000</td>\n",
              "      <td>2.600000</td>\n",
              "      <td>0.700000</td>\n",
              "      <td>1.000000</td>\n",
              "    </tr>\n",
              "    <tr>\n",
              "      <th>50%</th>\n",
              "      <td>45.000000</td>\n",
              "      <td>1.000000</td>\n",
              "      <td>0.300000</td>\n",
              "      <td>208.000000</td>\n",
              "      <td>35.000000</td>\n",
              "      <td>42.000000</td>\n",
              "      <td>6.600000</td>\n",
              "      <td>3.100000</td>\n",
              "      <td>0.930000</td>\n",
              "      <td>1.000000</td>\n",
              "    </tr>\n",
              "    <tr>\n",
              "      <th>75%</th>\n",
              "      <td>58.000000</td>\n",
              "      <td>2.600000</td>\n",
              "      <td>1.300000</td>\n",
              "      <td>298.000000</td>\n",
              "      <td>60.500000</td>\n",
              "      <td>87.000000</td>\n",
              "      <td>7.200000</td>\n",
              "      <td>3.800000</td>\n",
              "      <td>1.100000</td>\n",
              "      <td>2.000000</td>\n",
              "    </tr>\n",
              "    <tr>\n",
              "      <th>max</th>\n",
              "      <td>90.000000</td>\n",
              "      <td>75.000000</td>\n",
              "      <td>19.700000</td>\n",
              "      <td>2110.000000</td>\n",
              "      <td>2000.000000</td>\n",
              "      <td>4929.000000</td>\n",
              "      <td>9.600000</td>\n",
              "      <td>5.500000</td>\n",
              "      <td>2.800000</td>\n",
              "      <td>2.000000</td>\n",
              "    </tr>\n",
              "  </tbody>\n",
              "</table>\n",
              "</div>"
            ],
            "text/plain": [
              "              Age          TB          DB      Alkphos         Sgpt  \\\n",
              "count  583.000000  583.000000  583.000000   583.000000   583.000000   \n",
              "mean    44.746141    3.298799    1.486106   290.576329    80.713551   \n",
              "std     16.189833    6.209522    2.808498   242.937989   182.620356   \n",
              "min      4.000000    0.400000    0.100000    63.000000    10.000000   \n",
              "25%     33.000000    0.800000    0.200000   175.500000    23.000000   \n",
              "50%     45.000000    1.000000    0.300000   208.000000    35.000000   \n",
              "75%     58.000000    2.600000    1.300000   298.000000    60.500000   \n",
              "max     90.000000   75.000000   19.700000  2110.000000  2000.000000   \n",
              "\n",
              "              Sgot          TP         ALB   A/G Ratio    Selector  \n",
              "count   583.000000  583.000000  583.000000  579.000000  583.000000  \n",
              "mean    109.910806    6.483190    3.141852    0.947064    1.286449  \n",
              "std     288.918529    1.085451    0.795519    0.319592    0.452490  \n",
              "min      10.000000    2.700000    0.900000    0.300000    1.000000  \n",
              "25%      25.000000    5.800000    2.600000    0.700000    1.000000  \n",
              "50%      42.000000    6.600000    3.100000    0.930000    1.000000  \n",
              "75%      87.000000    7.200000    3.800000    1.100000    2.000000  \n",
              "max    4929.000000    9.600000    5.500000    2.800000    2.000000  "
            ]
          },
          "execution_count": 7,
          "metadata": {},
          "output_type": "execute_result"
        }
      ],
      "source": [
        "df.describe()"
      ]
    },
    {
      "cell_type": "code",
      "execution_count": 8,
      "metadata": {
        "colab": {
          "base_uri": "https://localhost:8080/"
        },
        "id": "JJxmycD5bbW2",
        "outputId": "ed051486-2752-4c6d-b3aa-3b8fc29e8e90"
      },
      "outputs": [
        {
          "data": {
            "text/plain": [
              "Age          0\n",
              "Gender       0\n",
              "TB           0\n",
              "DB           0\n",
              "Alkphos      0\n",
              "Sgpt         0\n",
              "Sgot         0\n",
              "TP           0\n",
              "ALB          0\n",
              "A/G Ratio    4\n",
              "Selector     0\n",
              "dtype: int64"
            ]
          },
          "execution_count": 8,
          "metadata": {},
          "output_type": "execute_result"
        }
      ],
      "source": [
        "df.isnull().sum()"
      ]
    },
    {
      "cell_type": "markdown",
      "metadata": {
        "id": "vYiXAYJybbW3"
      },
      "source": [
        "---\n",
        "### **Exploratory Data Analysis (EDA)**\n",
        "---"
      ]
    },
    {
      "cell_type": "markdown",
      "metadata": {
        "id": "11Gi79UwflwL"
      },
      "source": [
        "* Understanding Distribution of varoius datapoints"
      ]
    },
    {
      "cell_type": "code",
      "execution_count": 9,
      "metadata": {
        "colab": {
          "base_uri": "https://localhost:8080/",
          "height": 718
        },
        "id": "A61zDI_DbbW4",
        "outputId": "5562b9c1-956a-4657-e1cc-12d0f54bd917"
      },
      "outputs": [
        {
          "data": {
            "image/png": "[encoded data removed]",
            "text/plain": [
              "<Figure size 1000x800 with 10 Axes>"
            ]
          },
          "metadata": {},
          "output_type": "display_data"
        }
      ],
      "source": [
        "numerical_cols = df.select_dtypes(include=['float64', 'int64']).columns\n",
        "\n",
        "# Set spacing between subplots\n",
        "plt.figure(figsize=(10, 8))\n",
        "plt.subplots_adjust(wspace=0.5, hspace=0.5)\n",
        "\n",
        "# Plot histograms for each numerical column\n",
        "for i, col in enumerate(numerical_cols):\n",
        "    plt.subplot(3, 4, i+1)  # Adjust the number of rows and columns as per your requirement\n",
        "    sns.histplot(df[col], kde=True)\n",
        "    plt.title(f'Distribution of {col}')\n",
        "\n",
        "# plt.tight_layout()\n",
        "plt.show()"
      ]
    },
    {
      "cell_type": "markdown",
      "metadata": {
        "id": "g8N9WY3OfvMG"
      },
      "source": [
        "* Distribution of Gender ( M / F )"
      ]
    },
    {
      "cell_type": "code",
      "execution_count": 10,
      "metadata": {
        "colab": {
          "base_uri": "https://localhost:8080/",
          "height": 256
        },
        "id": "FzspkUF3bbW4",
        "outputId": "5aed8a79-22f0-47be-a0c2-603f7adae332"
      },
      "outputs": [
        {
          "data": {
            "image/png": "[encoded data removed]",
            "text/plain": [
              "<Figure size 400x200 with 1 Axes>"
            ]
          },
          "metadata": {},
          "output_type": "display_data"
        }
      ],
      "source": [
        "plt.figure(figsize=(4, 2))\n",
        "sns.countplot(x='Gender', data=df)\n",
        "plt.title('Distribution of Gender')\n",
        "plt.show()"
      ]
    },
    {
      "cell_type": "markdown",
      "metadata": {
        "id": "PwIh-4QIf2Rk"
      },
      "source": [
        "* Correlation Matrix <br>\n",
        "  * To understand relation between various features"
      ]
    },
    {
      "cell_type": "code",
      "execution_count": 11,
      "metadata": {
        "colab": {
          "base_uri": "https://localhost:8080/",
          "height": 699
        },
        "id": "wCHKXSjvbbW5",
        "outputId": "e70a979c-ae7c-4420-bbb1-b1a63c5923a6"
      },
      "outputs": [
        {
          "data": {
            "image/png": "[encoded data removed]",
            "text/plain": [
              "<Figure size 1000x800 with 2 Axes>"
            ]
          },
          "metadata": {},
          "output_type": "display_data"
        }
      ],
      "source": [
        "numerical_df = df.select_dtypes(include=['float64', 'int64'])\n",
        "\n",
        "plt.figure(figsize=(10, 8))\n",
        "sns.heatmap(numerical_df.corr(), annot=True, cmap='coolwarm', fmt='.2f')\n",
        "plt.title('Correlation Matrix')\n",
        "plt.show()"
      ]
    },
    {
      "cell_type": "markdown",
      "metadata": {
        "id": "zD3TwxhbbbW5"
      },
      "source": [
        "---\n",
        "### **Replace missing values**\n",
        "* A/G Ratio with the corresponding ALB values (high correlation)\n",
        "---"
      ]
    },
    {
      "cell_type": "code",
      "execution_count": 12,
      "metadata": {
        "colab": {
          "base_uri": "https://localhost:8080/"
        },
        "id": "Rlp5HiOTbbW6",
        "outputId": "c3375eda-b91d-4c9b-a215-98478600ef0c"
      },
      "outputs": [
        {
          "name": "stdout",
          "output_type": "stream",
          "text": [
            "<class 'pandas.core.frame.DataFrame'>\n",
            "RangeIndex: 583 entries, 0 to 582\n",
            "Data columns (total 11 columns):\n",
            " #   Column     Non-Null Count  Dtype  \n",
            "---  ------     --------------  -----  \n",
            " 0   Age        583 non-null    int64  \n",
            " 1   Gender     583 non-null    object \n",
            " 2   TB         583 non-null    float64\n",
            " 3   DB         583 non-null    float64\n",
            " 4   Alkphos    583 non-null    int64  \n",
            " 5   Sgpt       583 non-null    int64  \n",
            " 6   Sgot       583 non-null    int64  \n",
            " 7   TP         583 non-null    float64\n",
            " 8   ALB        583 non-null    float64\n",
            " 9   A/G Ratio  583 non-null    float64\n",
            " 10  Selector   583 non-null    int64  \n",
            "dtypes: float64(5), int64(5), object(1)\n",
            "memory usage: 50.2+ KB\n"
          ]
        }
      ],
      "source": [
        "non_null_df = df.dropna(subset=['ALB', 'A/G Ratio'])\n",
        "\n",
        "# Calculate the correlation between 'ALB' and 'A/G Ratio'\n",
        "correlation = non_null_df['ALB'].corr(non_null_df['A/G Ratio'])\n",
        "\n",
        "def fill_agr_missing(row):\n",
        "    if pd.isnull(row['A/G Ratio']):\n",
        "        return row['ALB'] * correlation\n",
        "    return row['A/G Ratio']\n",
        "\n",
        "\n",
        "df['A/G Ratio'] = df.apply(fill_agr_missing, axis=1)\n",
        "\n",
        "df.info()"
      ]
    },
    {
      "cell_type": "code",
      "execution_count": 13,
      "metadata": {
        "colab": {
          "base_uri": "https://localhost:8080/"
        },
        "id": "Xc-xW6x2bbW6",
        "outputId": "020dc468-5205-4635-feaa-1406cae7c755"
      },
      "outputs": [
        {
          "name": "stdout",
          "output_type": "stream",
          "text": [
            "<class 'pandas.core.frame.DataFrame'>\n",
            "RangeIndex: 583 entries, 0 to 582\n",
            "Data columns (total 11 columns):\n",
            " #   Column     Non-Null Count  Dtype  \n",
            "---  ------     --------------  -----  \n",
            " 0   Age        583 non-null    int64  \n",
            " 1   Gender     583 non-null    object \n",
            " 2   TB         583 non-null    float64\n",
            " 3   DB         583 non-null    float64\n",
            " 4   Alkphos    583 non-null    int64  \n",
            " 5   Sgpt       583 non-null    int64  \n",
            " 6   Sgot       583 non-null    int64  \n",
            " 7   TP         583 non-null    float64\n",
            " 8   ALB        583 non-null    float64\n",
            " 9   A/G Ratio  583 non-null    float64\n",
            " 10  Selector   583 non-null    int64  \n",
            "dtypes: float64(5), int64(5), object(1)\n",
            "memory usage: 50.2+ KB\n"
          ]
        }
      ],
      "source": [
        "df.info()"
      ]
    },
    {
      "cell_type": "markdown",
      "metadata": {
        "id": "vCPVPiyRbbW6"
      },
      "source": [
        "---\n",
        "### **Smote Resampling for Class Imbalance**\n",
        "---"
      ]
    },
    {
      "cell_type": "code",
      "execution_count": 14,
      "metadata": {
        "colab": {
          "base_uri": "https://localhost:8080/",
          "height": 663
        },
        "id": "Yl5Gb2WUbbW7",
        "outputId": "caacc6f2-82dd-4583-f493-a2dc711f4b79"
      },
      "outputs": [
        {
          "name": "stderr",
          "output_type": "stream",
          "text": [
            "c:\\Users\\Prasanna Pandhare\\AppData\\Local\\Programs\\Python\\Python311\\Lib\\site-packages\\sklearn\\preprocessing\\_encoders.py:972: FutureWarning: `sparse` was renamed to `sparse_output` in version 1.2 and will be removed in 1.4. `sparse_output` is ignored unless you leave `sparse` to its default value.\n",
            "  warnings.warn(\n"
          ]
        },
        {
          "data": {
            "image/png": "[encoded data removed]",
            "text/plain": [
              "<Figure size 800x600 with 2 Axes>"
            ]
          },
          "metadata": {},
          "output_type": "display_data"
        }
      ],
      "source": [
        "from imblearn.over_sampling import SMOTE\n",
        "from sklearn.preprocessing import OneHotEncoder\n",
        "import seaborn as sns\n",
        "import matplotlib.pyplot as plt\n",
        "\n",
        "X = df.drop(['Selector'], axis=1)\n",
        "y = df['Selector']\n",
        "\n",
        "encoder = OneHotEncoder(drop='first', sparse=False)\n",
        "X_encoded = pd.concat([X.drop('Gender', axis=1), pd.DataFrame(encoder.fit_transform(X[['Gender']]))], axis=1)\n",
        "\n",
        "X_encoded.columns = X_encoded.columns.astype(str)\n",
        "\n",
        "smote = SMOTE(random_state=42)\n",
        "\n",
        "X_resampled, y_resampled = smote.fit_resample(X_encoded, y)\n",
        "\n",
        "plt.figure(figsize=(8, 6))\n",
        "\n",
        "plt.subplot(1, 2, 1)\n",
        "sns.countplot(x='Selector', data=df)\n",
        "plt.title('Count of Selector (Before Resampling)')\n",
        "plt.xlabel('Selector')\n",
        "plt.ylabel('Count')\n",
        "\n",
        "plt.subplot(1, 2, 2)\n",
        "sns.countplot(x=y_resampled)\n",
        "plt.title('Count of Selector (After SMOTE Resampling)')\n",
        "plt.xlabel('Selector')\n",
        "plt.ylabel('Count')\n",
        "\n",
        "plt.tight_layout()\n",
        "plt.show()"
      ]
    },
    {
      "cell_type": "markdown",
      "metadata": {
        "id": "F-CA2-23bbW8"
      },
      "source": [
        "---\n",
        "## **Models**\n",
        "---"
      ]
    },
    {
      "cell_type": "markdown",
      "metadata": {
        "id": "r-WHyaILbbW8"
      },
      "source": [
        "* Logistic Regression"
      ]
    },
    {
      "cell_type": "code",
      "execution_count": 15,
      "metadata": {
        "colab": {
          "base_uri": "https://localhost:8080/"
        },
        "id": "_FL47fpCbbW8",
        "outputId": "8beb33b4-5b73-4490-feb0-c1311903cce6"
      },
      "outputs": [
        {
          "name": "stdout",
          "output_type": "stream",
          "text": [
            "Logistic Regression Metrics:\n",
            "Accuracy: 0.7784431137724551\n",
            "Classification Report:\n",
            "              precision    recall  f1-score   support\n",
            "\n",
            "           1       0.83      0.64      0.72        75\n",
            "           2       0.75      0.89      0.82        92\n",
            "\n",
            "    accuracy                           0.78       167\n",
            "   macro avg       0.79      0.77      0.77       167\n",
            "weighted avg       0.79      0.78      0.77       167\n",
            "\n",
            "Confusion Matrix:\n",
            "[[48 27]\n",
            " [10 82]]\n"
          ]
        }
      ],
      "source": [
        "X_train, X_test, y_train, y_test = train_test_split(X_resampled, y_resampled, test_size=0.2, random_state=42)\n",
        "\n",
        "\n",
        "clf_lr = LogisticRegression(random_state=42, max_iter=1000)\n",
        "clf_lr.fit(X_train, y_train)\n",
        "y_pred_lr = clf_lr.predict(X_test)\n",
        "\n",
        "accuracy_lr = accuracy_score(y_test, y_pred_lr)\n",
        "classification_report_lr = classification_report(y_test, y_pred_lr)\n",
        "conf_matrix_lr = confusion_matrix(y_test, y_pred_lr)\n",
        "\n",
        "print(\"Logistic Regression Metrics:\")\n",
        "print(f'Accuracy: {accuracy_lr}')\n",
        "print('Classification Report:')\n",
        "print(classification_report_lr)\n",
        "print('Confusion Matrix:')\n",
        "print(conf_matrix_lr)"
      ]
    },
    {
      "cell_type": "markdown",
      "metadata": {
        "id": "CE2khzf7bbW9"
      },
      "source": [
        "* Random Forest"
      ]
    },
    {
      "cell_type": "code",
      "execution_count": 16,
      "metadata": {
        "colab": {
          "base_uri": "https://localhost:8080/"
        },
        "id": "91JQV7SibbW9",
        "outputId": "727af289-098b-4023-9c18-ce2c75276494"
      },
      "outputs": [
        {
          "name": "stdout",
          "output_type": "stream",
          "text": [
            "\n",
            "Random Forest Metrics:\n",
            "Accuracy: 0.8323353293413174\n",
            "Classification Report:\n",
            "              precision    recall  f1-score   support\n",
            "\n",
            "           1       0.80      0.84      0.82        75\n",
            "           2       0.86      0.83      0.84        92\n",
            "\n",
            "    accuracy                           0.83       167\n",
            "   macro avg       0.83      0.83      0.83       167\n",
            "weighted avg       0.83      0.83      0.83       167\n",
            "\n",
            "Confusion Matrix:\n",
            "[[63 12]\n",
            " [16 76]]\n"
          ]
        }
      ],
      "source": [
        "clf_rf = RandomForestClassifier(random_state=42)\n",
        "clf_rf.fit(X_train, y_train)\n",
        "y_pred_rf = clf_rf.predict(X_test)\n",
        "\n",
        "\n",
        "accuracy_rf = accuracy_score(y_test, y_pred_rf)\n",
        "classification_report_rf = classification_report(y_test, y_pred_rf)\n",
        "conf_matrix_rf = confusion_matrix(y_test, y_pred_rf)\n",
        "\n",
        "print(\"\\nRandom Forest Metrics:\")\n",
        "print(f'Accuracy: {accuracy_rf}')\n",
        "print('Classification Report:')\n",
        "print(classification_report_rf)\n",
        "print('Confusion Matrix:')\n",
        "print(conf_matrix_rf)"
      ]
    },
    {
      "cell_type": "markdown",
      "metadata": {
        "id": "3W7V0aU_bbW9"
      },
      "source": [
        "* SVM"
      ]
    },
    {
      "cell_type": "code",
      "execution_count": 17,
      "metadata": {
        "colab": {
          "base_uri": "https://localhost:8080/"
        },
        "id": "ynk888NibbW9",
        "outputId": "07142f02-6d00-4f50-9eba-2ef3a1f26ab7"
      },
      "outputs": [
        {
          "name": "stdout",
          "output_type": "stream",
          "text": [
            "\n",
            "SVM Metrics:\n",
            "Accuracy: 0.6946107784431138\n",
            "Classification Report:\n",
            "              precision    recall  f1-score   support\n",
            "\n",
            "           1       0.71      0.53      0.61        75\n",
            "           2       0.68      0.83      0.75        92\n",
            "\n",
            "    accuracy                           0.69       167\n",
            "   macro avg       0.70      0.68      0.68       167\n",
            "weighted avg       0.70      0.69      0.69       167\n",
            "\n",
            "Confusion Matrix:\n",
            "[[40 35]\n",
            " [16 76]]\n"
          ]
        }
      ],
      "source": [
        "clf_svm = SVC(random_state=42)\n",
        "clf_svm.fit(X_train, y_train)\n",
        "y_pred_svm = clf_svm.predict(X_test)\n",
        "\n",
        "accuracy_svm = accuracy_score(y_test, y_pred_svm)\n",
        "classification_report_svm = classification_report(y_test, y_pred_svm)\n",
        "conf_matrix_svm = confusion_matrix(y_test, y_pred_svm)\n",
        "\n",
        "print(\"\\nSVM Metrics:\")\n",
        "print(f'Accuracy: {accuracy_svm}')\n",
        "print('Classification Report:')\n",
        "print(classification_report_svm)\n",
        "print('Confusion Matrix:')\n",
        "print(conf_matrix_svm)"
      ]
    },
    {
      "cell_type": "markdown",
      "metadata": {
        "id": "bGMkeCRMbbW9"
      },
      "source": [
        "* KNN"
      ]
    },
    {
      "cell_type": "code",
      "execution_count": 18,
      "metadata": {
        "colab": {
          "base_uri": "https://localhost:8080/"
        },
        "id": "Bg1lm898bbW-",
        "outputId": "43f6adda-b674-42a5-f221-89010b0e1a56"
      },
      "outputs": [
        {
          "name": "stdout",
          "output_type": "stream",
          "text": [
            "\n",
            "K-Nearest Neighbors Metrics:\n",
            "Accuracy: 0.7904191616766467\n",
            "Classification Report:\n",
            "              precision    recall  f1-score   support\n",
            "\n",
            "           1       0.79      0.73      0.76        75\n",
            "           2       0.79      0.84      0.81        92\n",
            "\n",
            "    accuracy                           0.79       167\n",
            "   macro avg       0.79      0.79      0.79       167\n",
            "weighted avg       0.79      0.79      0.79       167\n",
            "\n",
            "Confusion Matrix:\n",
            "[[55 20]\n",
            " [15 77]]\n"
          ]
        }
      ],
      "source": [
        "clf_knn = KNeighborsClassifier()\n",
        "clf_knn.fit(X_train, y_train)\n",
        "y_pred_knn = clf_knn.predict(X_test)\n",
        "\n",
        "\n",
        "accuracy_knn = accuracy_score(y_test, y_pred_knn)\n",
        "classification_report_knn = classification_report(y_test, y_pred_knn)\n",
        "conf_matrix_knn = confusion_matrix(y_test, y_pred_knn)\n",
        "\n",
        "print(\"\\nK-Nearest Neighbors Metrics:\")\n",
        "print(f'Accuracy: {accuracy_knn}')\n",
        "print('Classification Report:')\n",
        "print(classification_report_knn)\n",
        "print('Confusion Matrix:')\n",
        "print(conf_matrix_knn)"
      ]
    },
    {
      "cell_type": "markdown",
      "metadata": {
        "id": "n1eUv0lwbbW-"
      },
      "source": [
        "* Naive Bayes"
      ]
    },
    {
      "cell_type": "code",
      "execution_count": 19,
      "metadata": {
        "colab": {
          "base_uri": "https://localhost:8080/"
        },
        "id": "kIEntlXTbbW-",
        "outputId": "03b36d4d-a9db-41d1-c245-df8cc901adc8"
      },
      "outputs": [
        {
          "name": "stdout",
          "output_type": "stream",
          "text": [
            "\n",
            "Gaussian Naive Bayes Metrics:\n",
            "Accuracy: 0.7305389221556886\n",
            "Classification Report:\n",
            "              precision    recall  f1-score   support\n",
            "\n",
            "           1       0.94      0.43      0.59        75\n",
            "           2       0.68      0.98      0.80        92\n",
            "\n",
            "    accuracy                           0.73       167\n",
            "   macro avg       0.81      0.70      0.69       167\n",
            "weighted avg       0.80      0.73      0.70       167\n",
            "\n",
            "Confusion Matrix:\n",
            "[[32 43]\n",
            " [ 2 90]]\n"
          ]
        }
      ],
      "source": [
        "clf_nb = GaussianNB()\n",
        "clf_nb.fit(X_train, y_train)\n",
        "y_pred_nb = clf_nb.predict(X_test)\n",
        "\n",
        "accuracy_nb = accuracy_score(y_test, y_pred_nb)\n",
        "classification_report_nb = classification_report(y_test, y_pred_nb)\n",
        "conf_matrix_nb = confusion_matrix(y_test, y_pred_nb)\n",
        "\n",
        "print(\"\\nGaussian Naive Bayes Metrics:\")\n",
        "print(f'Accuracy: {accuracy_nb}')\n",
        "print('Classification Report:')\n",
        "print(classification_report_nb)\n",
        "print('Confusion Matrix:')\n",
        "print(conf_matrix_nb)"
      ]
    },
    {
      "cell_type": "markdown",
      "metadata": {
        "id": "h0CtxModbbW-"
      },
      "source": [
        "---\n",
        "## **Model Summary**\n",
        "---"
      ]
    },
    {
      "cell_type": "code",
      "execution_count": 20,
      "metadata": {
        "colab": {
          "base_uri": "https://localhost:8080/"
        },
        "id": "ndhy6TqHbbW-",
        "outputId": "c1b0bf7d-83af-4012-9b69-152e53deebb7"
      },
      "outputs": [
        {
          "name": "stdout",
          "output_type": "stream",
          "text": [
            "+---------------------+----------+-----------+--------+----------+\n",
            "|        Model        | Accuracy | Precision | Recall | F1-Score |\n",
            "+---------------------+----------+-----------+--------+----------+\n",
            "|     Naive Bayes     |   \u001b[93m0.73\u001b[0m   |    \u001b[91m0.80\u001b[0m   |  \u001b[92m0.73\u001b[0m  |   \u001b[94m0.70\u001b[0m   |\n",
            "| K-Nearest Neighbors |   \u001b[93m0.79\u001b[0m   |    \u001b[91m0.79\u001b[0m   |  \u001b[92m0.79\u001b[0m  |   \u001b[94m0.79\u001b[0m   |\n",
            "|         SVM         |   \u001b[93m0.69\u001b[0m   |    \u001b[91m0.70\u001b[0m   |  \u001b[92m0.69\u001b[0m  |   \u001b[94m0.69\u001b[0m   |\n",
            "|    Random Forest    |   \u001b[93m0.83\u001b[0m   |    \u001b[91m0.83\u001b[0m   |  \u001b[92m0.83\u001b[0m  |   \u001b[94m0.83\u001b[0m   |\n",
            "| Logistic Regression |   \u001b[93m0.78\u001b[0m   |    \u001b[91m0.79\u001b[0m   |  \u001b[92m0.78\u001b[0m  |   \u001b[94m0.77\u001b[0m   |\n",
            "+---------------------+----------+-----------+--------+----------+\n"
          ]
        }
      ],
      "source": [
        "report_nb = classification_report(y_test, y_pred_nb, output_dict=True)\n",
        "precision_nb = report_nb['weighted avg']['precision']\n",
        "recall_nb = report_nb['weighted avg']['recall']\n",
        "f1_nb = report_nb['weighted avg']['f1-score']\n",
        "\n",
        "report_knn = classification_report(y_test, y_pred_knn, output_dict=True)\n",
        "precision_knn = report_knn['weighted avg']['precision']\n",
        "recall_knn = report_knn['weighted avg']['recall']\n",
        "f1_knn = report_knn['weighted avg']['f1-score']\n",
        "\n",
        "report_svm = classification_report(y_test, y_pred_svm, output_dict=True)\n",
        "precision_svm = report_svm['weighted avg']['precision']\n",
        "recall_svm = report_svm['weighted avg']['recall']\n",
        "f1_svm = report_svm['weighted avg']['f1-score']\n",
        "\n",
        "report_rf = classification_report(y_test, y_pred_rf, output_dict=True)\n",
        "precision_rf = report_rf['weighted avg']['precision']\n",
        "recall_rf = report_rf['weighted avg']['recall']\n",
        "f1_rf = report_rf['weighted avg']['f1-score']\n",
        "\n",
        "report_lr = classification_report(y_test, y_pred_lr, output_dict=True)\n",
        "precision_lr = report_lr['weighted avg']['precision']\n",
        "recall_lr = report_lr['weighted avg']['recall']\n",
        "f1_lr = report_lr['weighted avg']['f1-score']\n",
        "\n",
        "\n",
        "table = PrettyTable()\n",
        "\n",
        "table.field_names = [\"Model\", \"Accuracy\", \"Precision\", \"Recall\", \"F1-Score\"]\n",
        "\n",
        "table.add_row([\"Naive Bayes\", f'\\033[93m{accuracy_nb:.2f}\\033[0m', f'\\033[91m{precision_nb:.2f}\\033[0m', f'\\033[92m{recall_nb:.2f}\\033[0m', f'\\033[94m{f1_nb:.2f}\\033[0m'])\n",
        "table.add_row([\"K-Nearest Neighbors\", f'\\033[93m{accuracy_knn:.2f}\\033[0m', f'\\033[91m{precision_knn:.2f}\\033[0m', f'\\033[92m{recall_knn:.2f}\\033[0m', f'\\033[94m{f1_knn:.2f}\\033[0m'])\n",
        "table.add_row([\"SVM\", f'\\033[93m{accuracy_svm:.2f}\\033[0m', f'\\033[91m{precision_svm:.2f}\\033[0m', f'\\033[92m{recall_svm:.2f}\\033[0m', f'\\033[94m{f1_svm:.2f}\\033[0m'])\n",
        "table.add_row([\"Random Forest\", f'\\033[93m{accuracy_rf:.2f}\\033[0m', f'\\033[91m{precision_rf:.2f}\\033[0m', f'\\033[92m{recall_rf:.2f}\\033[0m', f'\\033[94m{f1_rf:.2f}\\033[0m'])\n",
        "table.add_row([\"Logistic Regression\", f'\\033[93m{accuracy_lr:.2f}\\033[0m', f'\\033[91m{precision_lr:.2f}\\033[0m', f'\\033[92m{recall_lr:.2f}\\033[0m', f'\\033[94m{f1_lr:.2f}\\033[0m'])\n",
        "\n",
        "for field in table.field_names[1:]:\n",
        "    table.align[field] = \"center\"\n",
        "\n",
        "print(table)"
      ]
    },
    {
      "cell_type": "markdown",
      "metadata": {
        "id": "ywxbkLP4bbW-"
      },
      "source": [
        "---"
      ]
    },
    {
      "cell_type": "markdown",
      "metadata": {
        "id": "JaExnUsHcyiF"
      },
      "source": [
        "## **Ensemble Learning**"
      ]
    },
    {
      "cell_type": "markdown",
      "metadata": {
        "id": "L8QJxPN3c6F1"
      },
      "source": [
        "* Random Forest and KNN"
      ]
    },
    {
      "cell_type": "code",
      "execution_count": 21,
      "metadata": {
        "id": "hit8sitRhr5I"
      },
      "outputs": [],
      "source": [
        "from sklearn.ensemble import VotingClassifier"
      ]
    },
    {
      "cell_type": "code",
      "execution_count": 22,
      "metadata": {
        "colab": {
          "base_uri": "https://localhost:8080/"
        },
        "id": "OwngnYBZbbW-",
        "outputId": "ca698937-8c7d-4e3a-943e-ea0721f4f8ef"
      },
      "outputs": [
        {
          "name": "stdout",
          "output_type": "stream",
          "text": [
            "\n",
            "Ensemble Learning Metrics:\n",
            "Accuracy: 0.8143712574850299\n",
            "Classification Report:\n",
            "              precision    recall  f1-score   support\n",
            "\n",
            "           1       0.75      0.88      0.81        75\n",
            "           2       0.89      0.76      0.82        92\n",
            "\n",
            "    accuracy                           0.81       167\n",
            "   macro avg       0.82      0.82      0.81       167\n",
            "weighted avg       0.82      0.81      0.81       167\n",
            "\n",
            "Confusion Matrix:\n",
            "[[66  9]\n",
            " [22 70]]\n"
          ]
        }
      ],
      "source": [
        "# Define classifiers\n",
        "clf_rf = RandomForestClassifier(random_state=42)\n",
        "clf_knn = KNeighborsClassifier()\n",
        "\n",
        "# Define the ensemble classifier\n",
        "ensemble_clf = VotingClassifier(estimators=[\n",
        "    ('random_forest', clf_rf),\n",
        "    ('knn', clf_knn)\n",
        "])\n",
        "\n",
        "# Train the ensemble classifier\n",
        "ensemble_clf.fit(X_train, y_train)\n",
        "\n",
        "# Predict using the ensemble classifier\n",
        "y_pred_ensemble = ensemble_clf.predict(X_test)\n",
        "\n",
        "# Calculate metrics for the ensemble classifier\n",
        "accuracy_ensemble = accuracy_score(y_test, y_pred_ensemble)\n",
        "classification_report_ensemble = classification_report(y_test, y_pred_ensemble)\n",
        "conf_matrix_ensemble = confusion_matrix(y_test, y_pred_ensemble)\n",
        "\n",
        "# Print metrics for the ensemble classifier\n",
        "print(\"\\nEnsemble Learning Metrics:\")\n",
        "print(f'Accuracy: {accuracy_ensemble}')\n",
        "print('Classification Report:')\n",
        "print(classification_report_ensemble)\n",
        "print('Confusion Matrix:')\n",
        "print(conf_matrix_ensemble)\n"
      ]
    },
    {
      "cell_type": "markdown",
      "metadata": {
        "id": "tlnlqPxcc_Db"
      },
      "source": [
        "* Combined all model"
      ]
    },
    {
      "cell_type": "code",
      "execution_count": 23,
      "metadata": {
        "colab": {
          "base_uri": "https://localhost:8080/"
        },
        "id": "7ydMfUGfbbW_",
        "outputId": "2d32df45-c5d2-4b86-bb5e-ff4012845daa"
      },
      "outputs": [
        {
          "name": "stdout",
          "output_type": "stream",
          "text": [
            "\n",
            "Gaussian Naive Bayes Metrics:\n",
            "Accuracy: 0.7305389221556886\n",
            "Classification Report:\n",
            "              precision    recall  f1-score   support\n",
            "\n",
            "           1       0.94      0.43      0.59        75\n",
            "           2       0.68      0.98      0.80        92\n",
            "\n",
            "    accuracy                           0.73       167\n",
            "   macro avg       0.81      0.70      0.69       167\n",
            "weighted avg       0.80      0.73      0.70       167\n",
            "\n",
            "Confusion Matrix:\n",
            "[[32 43]\n",
            " [ 2 90]]\n",
            "\n",
            "SVM Metrics:\n",
            "Accuracy: 0.6946107784431138\n",
            "Classification Report:\n",
            "              precision    recall  f1-score   support\n",
            "\n",
            "           1       0.71      0.53      0.61        75\n",
            "           2       0.68      0.83      0.75        92\n",
            "\n",
            "    accuracy                           0.69       167\n",
            "   macro avg       0.70      0.68      0.68       167\n",
            "weighted avg       0.70      0.69      0.69       167\n",
            "\n",
            "Confusion Matrix:\n",
            "[[40 35]\n",
            " [16 76]]\n",
            "\n",
            "Logistic Regression Metrics:\n",
            "Accuracy: 0.7784431137724551\n",
            "Classification Report:\n",
            "              precision    recall  f1-score   support\n",
            "\n",
            "           1       0.83      0.64      0.72        75\n",
            "           2       0.75      0.89      0.82        92\n",
            "\n",
            "    accuracy                           0.78       167\n",
            "   macro avg       0.79      0.77      0.77       167\n",
            "weighted avg       0.79      0.78      0.77       167\n",
            "\n",
            "Confusion Matrix:\n",
            "[[48 27]\n",
            " [10 82]]\n",
            "\n",
            "Random Forest Metrics:\n",
            "Accuracy: 0.8323353293413174\n",
            "Classification Report:\n",
            "              precision    recall  f1-score   support\n",
            "\n",
            "           1       0.80      0.84      0.82        75\n",
            "           2       0.86      0.83      0.84        92\n",
            "\n",
            "    accuracy                           0.83       167\n",
            "   macro avg       0.83      0.83      0.83       167\n",
            "weighted avg       0.83      0.83      0.83       167\n",
            "\n",
            "Confusion Matrix:\n",
            "[[63 12]\n",
            " [16 76]]\n",
            "\n",
            "K-Nearest Neighbors Metrics:\n",
            "Accuracy: 0.7904191616766467\n",
            "Classification Report:\n",
            "              precision    recall  f1-score   support\n",
            "\n",
            "           1       0.79      0.73      0.76        75\n",
            "           2       0.79      0.84      0.81        92\n",
            "\n",
            "    accuracy                           0.79       167\n",
            "   macro avg       0.79      0.79      0.79       167\n",
            "weighted avg       0.79      0.79      0.79       167\n",
            "\n",
            "Confusion Matrix:\n",
            "[[55 20]\n",
            " [15 77]]\n",
            "\n",
            "Ensemble Learning Metrics:\n",
            "Accuracy: 0.7964071856287425\n",
            "Classification Report:\n",
            "              precision    recall  f1-score   support\n",
            "\n",
            "           1       0.90      0.61      0.73        75\n",
            "           2       0.75      0.95      0.84        92\n",
            "\n",
            "    accuracy                           0.80       167\n",
            "   macro avg       0.83      0.78      0.78       167\n",
            "weighted avg       0.82      0.80      0.79       167\n",
            "\n",
            "Confusion Matrix:\n",
            "[[46 29]\n",
            " [ 5 87]]\n"
          ]
        }
      ],
      "source": [
        "# Split the data if not already split\n",
        "X_train, X_test, y_train, y_test = train_test_split(X_resampled, y_resampled, test_size=0.2, random_state=42)\n",
        "\n",
        "# Define classifiers\n",
        "clf_nb = GaussianNB()\n",
        "clf_svm = SVC(random_state=42)\n",
        "clf_lr = LogisticRegression(random_state=42, max_iter=1000)\n",
        "clf_rf = RandomForestClassifier(random_state=42)\n",
        "clf_knn = KNeighborsClassifier()\n",
        "\n",
        "# Train classifiers\n",
        "clf_nb.fit(X_train, y_train)\n",
        "clf_svm.fit(X_train, y_train)\n",
        "clf_lr.fit(X_train, y_train)\n",
        "clf_rf.fit(X_train, y_train)\n",
        "clf_knn.fit(X_train, y_train)\n",
        "\n",
        "# Predictions\n",
        "y_pred_nb = clf_nb.predict(X_test)\n",
        "y_pred_svm = clf_svm.predict(X_test)\n",
        "y_pred_lr = clf_lr.predict(X_test)\n",
        "y_pred_rf = clf_rf.predict(X_test)\n",
        "y_pred_knn = clf_knn.predict(X_test)\n",
        "\n",
        "# Calculate accuracies\n",
        "accuracy_nb = accuracy_score(y_test, y_pred_nb)\n",
        "accuracy_svm = accuracy_score(y_test, y_pred_svm)\n",
        "accuracy_lr = accuracy_score(y_test, y_pred_lr)\n",
        "accuracy_rf = accuracy_score(y_test, y_pred_rf)\n",
        "accuracy_knn = accuracy_score(y_test, y_pred_knn)\n",
        "\n",
        "# Print individual classifier metrics\n",
        "print(\"\\nGaussian Naive Bayes Metrics:\")\n",
        "print(f'Accuracy: {accuracy_nb}')\n",
        "print('Classification Report:')\n",
        "print(classification_report(y_test, y_pred_nb))\n",
        "print('Confusion Matrix:')\n",
        "print(confusion_matrix(y_test, y_pred_nb))\n",
        "\n",
        "print(\"\\nSVM Metrics:\")\n",
        "print(f'Accuracy: {accuracy_svm}')\n",
        "print('Classification Report:')\n",
        "print(classification_report(y_test, y_pred_svm))\n",
        "print('Confusion Matrix:')\n",
        "print(confusion_matrix(y_test, y_pred_svm))\n",
        "\n",
        "print(\"\\nLogistic Regression Metrics:\")\n",
        "print(f'Accuracy: {accuracy_lr}')\n",
        "print('Classification Report:')\n",
        "print(classification_report(y_test, y_pred_lr))\n",
        "print('Confusion Matrix:')\n",
        "print(confusion_matrix(y_test, y_pred_lr))\n",
        "\n",
        "print(\"\\nRandom Forest Metrics:\")\n",
        "print(f'Accuracy: {accuracy_rf}')\n",
        "print('Classification Report:')\n",
        "print(classification_report(y_test, y_pred_rf))\n",
        "print('Confusion Matrix:')\n",
        "print(confusion_matrix(y_test, y_pred_rf))\n",
        "\n",
        "print(\"\\nK-Nearest Neighbors Metrics:\")\n",
        "print(f'Accuracy: {accuracy_knn}')\n",
        "print('Classification Report:')\n",
        "print(classification_report(y_test, y_pred_knn))\n",
        "print('Confusion Matrix:')\n",
        "print(confusion_matrix(y_test, y_pred_knn))\n",
        "\n",
        "# Ensemble Learning\n",
        "ensemble_clf = VotingClassifier(estimators=[\n",
        "    ('naive_bayes', clf_nb),\n",
        "    ('svm', clf_svm),\n",
        "    ('logistic_regression', clf_lr),\n",
        "    ('random_forest', clf_rf),\n",
        "    ('knn', clf_knn)\n",
        "])\n",
        "\n",
        "ensemble_clf.fit(X_train, y_train)\n",
        "y_pred_ensemble = ensemble_clf.predict(X_test)\n",
        "\n",
        "# Calculate ensemble metrics\n",
        "accuracy_ensemble = accuracy_score(y_test, y_pred_ensemble)\n",
        "classification_report_ensemble = classification_report(y_test, y_pred_ensemble)\n",
        "conf_matrix_ensemble = confusion_matrix(y_test, y_pred_ensemble)\n",
        "\n",
        "# Print ensemble metrics\n",
        "print(\"\\nEnsemble Learning Metrics:\")\n",
        "print(f'Accuracy: {accuracy_ensemble}')\n",
        "print('Classification Report:')\n",
        "print(classification_report_ensemble)\n",
        "print('Confusion Matrix:')\n",
        "print(conf_matrix_ensemble)\n"
      ]
    },
    {
      "cell_type": "markdown",
      "metadata": {
        "id": "1_IIsEe-dKyN"
      },
      "source": [
        "* Combined Results for all model and a combined model"
      ]
    },
    {
      "cell_type": "code",
      "execution_count": 24,
      "metadata": {
        "colab": {
          "base_uri": "https://localhost:8080/"
        },
        "id": "abzZDkxZbbXG",
        "outputId": "41ff522f-3646-46a5-bf5b-50b983304d68"
      },
      "outputs": [
        {
          "name": "stdout",
          "output_type": "stream",
          "text": [
            "            Classifier  Accuracy  Precision    Recall  F1-Score  \\\n",
            "0          Naive Bayes  0.730539   0.795472  0.730539  0.704411   \n",
            "1                  SVM  0.694611   0.697979  0.694611  0.686756   \n",
            "2  Logistic Regression  0.778443   0.786108  0.778443  0.773653   \n",
            "3        Random Forest  0.832335   0.833920  0.832335  0.832650   \n",
            "4  K-Nearest Neighbors  0.790419   0.790177  0.790419  0.789578   \n",
            "5    Ensemble Learning  0.796407   0.818246  0.796407  0.788763   \n",
            "\n",
            "       Confusion Matrix  \n",
            "0   [[32, 43], [2, 90]]  \n",
            "1  [[40, 35], [16, 76]]  \n",
            "2  [[48, 27], [10, 82]]  \n",
            "3  [[63, 12], [16, 76]]  \n",
            "4  [[55, 20], [15, 77]]  \n",
            "5   [[46, 29], [5, 87]]  \n"
          ]
        }
      ],
      "source": [
        "# Assuming X_resampled and y_resampled are defined\n",
        "\n",
        "# Split data into train and test sets\n",
        "X_train, X_test, y_train, y_test = train_test_split(X_resampled, y_resampled, test_size=0.2, random_state=42)\n",
        "\n",
        "# Initialize classifiers\n",
        "clf_nb = GaussianNB()\n",
        "clf_svm = SVC(random_state=42)\n",
        "clf_lr = LogisticRegression(random_state=42, max_iter=1000)\n",
        "clf_rf = RandomForestClassifier(random_state=42)\n",
        "clf_knn = KNeighborsClassifier()\n",
        "\n",
        "# Fit classifiers\n",
        "clf_nb.fit(X_train, y_train)\n",
        "clf_svm.fit(X_train, y_train)\n",
        "clf_lr.fit(X_train, y_train)\n",
        "clf_rf.fit(X_train, y_train)\n",
        "clf_knn.fit(X_train, y_train)\n",
        "\n",
        "# Predict using each classifier\n",
        "y_pred_nb = clf_nb.predict(X_test)\n",
        "y_pred_svm = clf_svm.predict(X_test)\n",
        "y_pred_lr = clf_lr.predict(X_test)\n",
        "y_pred_rf = clf_rf.predict(X_test)\n",
        "y_pred_knn = clf_knn.predict(X_test)\n",
        "\n",
        "# Calculate metrics for each classifier\n",
        "metrics = []\n",
        "for name, y_pred in zip(['Naive Bayes', 'SVM', 'Logistic Regression', 'Random Forest', 'K-Nearest Neighbors'],\n",
        "                        [y_pred_nb, y_pred_svm, y_pred_lr, y_pred_rf, y_pred_knn]):\n",
        "    accuracy = accuracy_score(y_test, y_pred)\n",
        "    classification_rep = classification_report(y_test, y_pred, output_dict=True)\n",
        "    confusion_mat = confusion_matrix(y_test, y_pred)\n",
        "    metrics.append({'Classifier': name,\n",
        "                    'Accuracy': accuracy,\n",
        "                    'Precision': classification_rep['weighted avg']['precision'],\n",
        "                    'Recall': classification_rep['weighted avg']['recall'],\n",
        "                    'F1-Score': classification_rep['weighted avg']['f1-score'],\n",
        "                    'Confusion Matrix': confusion_mat})\n",
        "\n",
        "# Ensemble Learning\n",
        "ensemble_clf = VotingClassifier(estimators=[\n",
        "    ('Naive Bayes', clf_nb),\n",
        "    ('SVM', clf_svm),\n",
        "    ('Logistic Regression', clf_lr),\n",
        "    ('Random Forest', clf_rf),\n",
        "    ('K-Nearest Neighbors', clf_knn)\n",
        "])\n",
        "\n",
        "ensemble_clf.fit(X_train, y_train)\n",
        "y_pred_ensemble = ensemble_clf.predict(X_test)\n",
        "accuracy_ensemble = accuracy_score(y_test, y_pred_ensemble)\n",
        "classification_report_ensemble = classification_report(y_test, y_pred_ensemble, output_dict=True)\n",
        "conf_matrix_ensemble = confusion_matrix(y_test, y_pred_ensemble)\n",
        "\n",
        "# Add Ensemble Learning metrics to the table\n",
        "metrics.append({'Classifier': 'Ensemble Learning',\n",
        "                'Accuracy': accuracy_ensemble,\n",
        "                'Precision': classification_report_ensemble['weighted avg']['precision'],\n",
        "                'Recall': classification_report_ensemble['weighted avg']['recall'],\n",
        "                'F1-Score': classification_report_ensemble['weighted avg']['f1-score'],\n",
        "                'Confusion Matrix': conf_matrix_ensemble})\n",
        "# Convert metrics to DataFrame for better visualization\n",
        "metrics_df = pd.DataFrame(metrics)\n",
        "\n",
        "# Display the metrics in a table format\n",
        "print(metrics_df)"
      ]
    },
    {
      "cell_type": "markdown",
      "metadata": {
        "id": "nIXwcscadVfC"
      },
      "source": [
        "![ML](https://user-images.githubusercontent.com/7065401/52071924-c003ad80-2562-11e9-8297-1c6595f8a7ff.png)\n",
        "## **Conclusion :**\n",
        "* LCP - Liver Cirrhosis Prediction is a ML model that helps in prediction whether patient have Cirrhosis or not.\n",
        "* Random Forest gives best result of all the model implemented for LCP with accuracy of 83%.\n",
        "* On Ensemble Learning of KNN and Random Forest model gives result of 81% accuracy.\n",
        "* When Ensemble Learning is done by combining all 5 model accuracy fall down to 79%.\n",
        "\n",
        "![Machine Learning Project](https://user-images.githubusercontent.com/7065401/52071927-c1cd7100-2562-11e9-908a-dde91ba14e59.png)"
      ]
    },
    {
      "cell_type": "code",
      "execution_count": 25,
      "metadata": {},
      "outputs": [],
      "source": [
        "import sklearn\n",
        "import pandas as pd\n",
        "from sklearn.calibration import LabelEncoder\n",
        "from sklearn.ensemble import RandomForestClassifier\n",
        "from sklearn.model_selection import train_test_split\n",
        "import joblib"
      ]
    },
    {
      "cell_type": "code",
      "execution_count": 26,
      "metadata": {},
      "outputs": [],
      "source": [
        "non_null_df = df.dropna(subset=['ALB', 'A/G Ratio'])\n",
        "\n",
        "# Calculate the correlation between 'ALB' and 'A/G Ratio'\n",
        "correlation = non_null_df['ALB'].corr(non_null_df['A/G Ratio'])\n",
        "\n",
        "def fill_agr_missing(row):\n",
        "    if pd.isnull(row['A/G Ratio']):\n",
        "        return row['ALB'] * correlation\n",
        "    return row['A/G Ratio']\n",
        "\n",
        "\n",
        "df['A/G Ratio'] = df.apply(fill_agr_missing, axis=1)"
      ]
    },
    {
      "cell_type": "code",
      "execution_count": 27,
      "metadata": {},
      "outputs": [
        {
          "data": {
            "text/plain": [
              "['model.pkl']"
            ]
          },
          "execution_count": 27,
          "metadata": {},
          "output_type": "execute_result"
        }
      ],
      "source": [
        "# Split the dataset into features (X) and target variable (y)\n",
        "X = df.drop(['Selector'], axis=1)\n",
        "y = df['Selector']\n",
        "\n",
        "label_encoder = LabelEncoder()\n",
        "X['Gender'] = label_encoder.fit_transform(X['Gender'])\n",
        "\n",
        "# Split the data into training and testing sets\n",
        "X_train, X_test, y_train, y_test = train_test_split(X, y, test_size=0.2, random_state=42)\n",
        "\n",
        "# Initialize and train a model (example: RandomForestClassifier)\n",
        "clf_rf = RandomForestClassifier()\n",
        "clf_rf.fit(X_train, y_train)\n",
        "\n",
        "# Serialize and save the trained model to a .pkl file\n",
        "joblib.dump(clf_rf, 'model.pkl')\n"
      ]
    },
    {
      "cell_type": "code",
      "execution_count": 28,
      "metadata": {},
      "outputs": [
        {
          "name": "stdout",
          "output_type": "stream",
          "text": [
            "Scikit-learn version metadata not found in the model.\n"
          ]
        }
      ],
      "source": [
        "import joblib\n",
        "\n",
        "# Load the model\n",
        "model = joblib.load('model.pkl')\n",
        "\n",
        "# Retrieve scikit-learn version from metadata attribute\n",
        "scikit_learn_version = getattr(model, 'scikit_learn_version', None)\n",
        "if scikit_learn_version:\n",
        "    print(\"Scikit-learn version used to train the model:\", scikit_learn_version)\n",
        "else:\n",
        "    print(\"Scikit-learn version metadata not found in the model.\")\n"
      ]
    },
    {
      "cell_type": "markdown",
      "metadata": {
        "id": "A9tQnET7w-fg"
      },
      "source": [
        "### **Prediction Model using Random Forest**"
      ]
    },
    {
      "cell_type": "code",
      "execution_count": 29,
      "metadata": {
        "colab": {
          "base_uri": "https://localhost:8080/",
          "height": 362
        },
        "id": "gUrN4weYkjLi",
        "outputId": "29f2a16e-9318-4e04-bd88-dfb3c5d970c5"
      },
      "outputs": [
        {
          "data": {
            "text/html": [
              "<div>\n",
              "<style scoped>\n",
              "    .dataframe tbody tr th:only-of-type {\n",
              "        vertical-align: middle;\n",
              "    }\n",
              "\n",
              "    .dataframe tbody tr th {\n",
              "        vertical-align: top;\n",
              "    }\n",
              "\n",
              "    .dataframe thead th {\n",
              "        text-align: right;\n",
              "    }\n",
              "</style>\n",
              "<table border=\"1\" class=\"dataframe\">\n",
              "  <thead>\n",
              "    <tr style=\"text-align: right;\">\n",
              "      <th></th>\n",
              "      <th>Age</th>\n",
              "      <th>Gender</th>\n",
              "      <th>TB</th>\n",
              "      <th>DB</th>\n",
              "      <th>Alkphos</th>\n",
              "      <th>Sgpt</th>\n",
              "      <th>Sgot</th>\n",
              "      <th>TP</th>\n",
              "      <th>ALB</th>\n",
              "      <th>A/G Ratio</th>\n",
              "      <th>Selector</th>\n",
              "    </tr>\n",
              "  </thead>\n",
              "  <tbody>\n",
              "    <tr>\n",
              "      <th>0</th>\n",
              "      <td>65</td>\n",
              "      <td>Female</td>\n",
              "      <td>0.7</td>\n",
              "      <td>0.1</td>\n",
              "      <td>187</td>\n",
              "      <td>16</td>\n",
              "      <td>18</td>\n",
              "      <td>6.8</td>\n",
              "      <td>3.3</td>\n",
              "      <td>0.90</td>\n",
              "      <td>1</td>\n",
              "    </tr>\n",
              "    <tr>\n",
              "      <th>1</th>\n",
              "      <td>62</td>\n",
              "      <td>Male</td>\n",
              "      <td>10.9</td>\n",
              "      <td>5.5</td>\n",
              "      <td>699</td>\n",
              "      <td>64</td>\n",
              "      <td>100</td>\n",
              "      <td>7.5</td>\n",
              "      <td>3.2</td>\n",
              "      <td>0.74</td>\n",
              "      <td>1</td>\n",
              "    </tr>\n",
              "    <tr>\n",
              "      <th>2</th>\n",
              "      <td>62</td>\n",
              "      <td>Male</td>\n",
              "      <td>7.3</td>\n",
              "      <td>4.1</td>\n",
              "      <td>490</td>\n",
              "      <td>60</td>\n",
              "      <td>68</td>\n",
              "      <td>7.0</td>\n",
              "      <td>3.3</td>\n",
              "      <td>0.89</td>\n",
              "      <td>1</td>\n",
              "    </tr>\n",
              "    <tr>\n",
              "      <th>3</th>\n",
              "      <td>58</td>\n",
              "      <td>Male</td>\n",
              "      <td>1.0</td>\n",
              "      <td>0.4</td>\n",
              "      <td>182</td>\n",
              "      <td>14</td>\n",
              "      <td>20</td>\n",
              "      <td>6.8</td>\n",
              "      <td>3.4</td>\n",
              "      <td>1.00</td>\n",
              "      <td>1</td>\n",
              "    </tr>\n",
              "    <tr>\n",
              "      <th>4</th>\n",
              "      <td>72</td>\n",
              "      <td>Male</td>\n",
              "      <td>3.9</td>\n",
              "      <td>2.0</td>\n",
              "      <td>195</td>\n",
              "      <td>27</td>\n",
              "      <td>59</td>\n",
              "      <td>7.3</td>\n",
              "      <td>2.4</td>\n",
              "      <td>0.40</td>\n",
              "      <td>1</td>\n",
              "    </tr>\n",
              "    <tr>\n",
              "      <th>5</th>\n",
              "      <td>46</td>\n",
              "      <td>Male</td>\n",
              "      <td>1.8</td>\n",
              "      <td>0.7</td>\n",
              "      <td>208</td>\n",
              "      <td>19</td>\n",
              "      <td>14</td>\n",
              "      <td>7.6</td>\n",
              "      <td>4.4</td>\n",
              "      <td>1.30</td>\n",
              "      <td>1</td>\n",
              "    </tr>\n",
              "    <tr>\n",
              "      <th>6</th>\n",
              "      <td>26</td>\n",
              "      <td>Female</td>\n",
              "      <td>0.9</td>\n",
              "      <td>0.2</td>\n",
              "      <td>154</td>\n",
              "      <td>16</td>\n",
              "      <td>12</td>\n",
              "      <td>7.0</td>\n",
              "      <td>3.5</td>\n",
              "      <td>1.00</td>\n",
              "      <td>1</td>\n",
              "    </tr>\n",
              "    <tr>\n",
              "      <th>7</th>\n",
              "      <td>29</td>\n",
              "      <td>Female</td>\n",
              "      <td>0.9</td>\n",
              "      <td>0.3</td>\n",
              "      <td>202</td>\n",
              "      <td>14</td>\n",
              "      <td>11</td>\n",
              "      <td>6.7</td>\n",
              "      <td>3.6</td>\n",
              "      <td>1.10</td>\n",
              "      <td>1</td>\n",
              "    </tr>\n",
              "    <tr>\n",
              "      <th>8</th>\n",
              "      <td>17</td>\n",
              "      <td>Male</td>\n",
              "      <td>0.9</td>\n",
              "      <td>0.3</td>\n",
              "      <td>202</td>\n",
              "      <td>22</td>\n",
              "      <td>19</td>\n",
              "      <td>7.4</td>\n",
              "      <td>4.1</td>\n",
              "      <td>1.20</td>\n",
              "      <td>2</td>\n",
              "    </tr>\n",
              "    <tr>\n",
              "      <th>9</th>\n",
              "      <td>55</td>\n",
              "      <td>Male</td>\n",
              "      <td>0.7</td>\n",
              "      <td>0.2</td>\n",
              "      <td>290</td>\n",
              "      <td>53</td>\n",
              "      <td>58</td>\n",
              "      <td>6.8</td>\n",
              "      <td>3.4</td>\n",
              "      <td>1.00</td>\n",
              "      <td>1</td>\n",
              "    </tr>\n",
              "  </tbody>\n",
              "</table>\n",
              "</div>"
            ],
            "text/plain": [
              "   Age  Gender    TB   DB  Alkphos  Sgpt  Sgot   TP  ALB  A/G Ratio  Selector\n",
              "0   65  Female   0.7  0.1      187    16    18  6.8  3.3       0.90         1\n",
              "1   62    Male  10.9  5.5      699    64   100  7.5  3.2       0.74         1\n",
              "2   62    Male   7.3  4.1      490    60    68  7.0  3.3       0.89         1\n",
              "3   58    Male   1.0  0.4      182    14    20  6.8  3.4       1.00         1\n",
              "4   72    Male   3.9  2.0      195    27    59  7.3  2.4       0.40         1\n",
              "5   46    Male   1.8  0.7      208    19    14  7.6  4.4       1.30         1\n",
              "6   26  Female   0.9  0.2      154    16    12  7.0  3.5       1.00         1\n",
              "7   29  Female   0.9  0.3      202    14    11  6.7  3.6       1.10         1\n",
              "8   17    Male   0.9  0.3      202    22    19  7.4  4.1       1.20         2\n",
              "9   55    Male   0.7  0.2      290    53    58  6.8  3.4       1.00         1"
            ]
          },
          "execution_count": 29,
          "metadata": {},
          "output_type": "execute_result"
        }
      ],
      "source": [
        "df.head(10)"
      ]
    },
    {
      "cell_type": "code",
      "execution_count": null,
      "metadata": {
        "colab": {
          "base_uri": "https://localhost:8080/"
        },
        "id": "d7uAwoMtlNAu",
        "outputId": "8ba63c01-3cff-42d1-82cc-6c657ea41378"
      },
      "outputs": [],
      "source": [
        "# Assuming X_train, y_train, X_test, y_test are already defined\n",
        "\n",
        "# Train the Random Forest classifier\n",
        "clf_rf.fit(X_train, y_train)\n",
        "\n",
        "# Function to predict using the trained model\n",
        "def predict_result(age, gender, tb, db, alkphos, sgpt, sgot, tp, alb, ag_ratio):\n",
        "    # Convert gender to numerical value (assuming Male=0, Female=1)\n",
        "    gender = 1 if gender.lower() == 'female' else 0\n",
        "\n",
        "    # Create a feature vector from the input values, including the gender feature\n",
        "    feature_vector = [[age, gender, tb, db, alkphos, sgpt, sgot, tp, alb, ag_ratio]]\n",
        "\n",
        "    # Predict using the trained model\n",
        "    result = clf_rf.predict(feature_vector)\n",
        "\n",
        "    # Return the prediction result\n",
        "    return result\n",
        "\n",
        "# Function to get user input and display prediction\n",
        "def get_user_input_and_predict():\n",
        "    # Get user input for each feature\n",
        "    age = int(input(\"Enter Age: \"))\n",
        "    gender = input(\"Enter Gender (Male/Female): \")\n",
        "    tb = float(input(\"Enter Total Bilirubin (TB): \"))\n",
        "    db = float(input(\"Enter Direct Bilirubin (DB): \"))\n",
        "    alkphos = int(input(\"Enter Alkaline Phosphotase (Alkphos): \"))\n",
        "    sgpt = int(input(\"Enter SGPT: \"))\n",
        "    sgot = int(input(\"Enter SGOT: \"))\n",
        "    tp = float(input(\"Enter Total Protiens (TP): \"))\n",
        "    alb = float(input(\"Enter Albumin (ALB): \"))\n",
        "    ag_ratio = float(input(\"Enter A/G Ratio: \"))\n",
        "\n",
        "    # Convert gender to numerical value (assuming Male=0, Female=1)\n",
        "    while gender.lower() not in ['male', 'female']:\n",
        "        print(\"Invalid input! Please enter 'Male' or 'Female'.\")\n",
        "        gender = input(\"Enter Gender (Male/Female): \")\n",
        "\n",
        "    # Get the prediction result\n",
        "    result = predict_result(age, gender, tb, db, alkphos, sgpt, sgot, tp, alb, ag_ratio)\n",
        "\n",
        "    # Display the prediction result\n",
        "    if result == 1:\n",
        "        print(\"The patient is not affected.\")\n",
        "    elif result == 2:\n",
        "        print(\"The patient is affected.\")\n",
        "\n",
        "# Call the function to get user input and make prediction\n",
        "get_user_input_and_predict()"
      ]
    },
    {
      "cell_type": "code",
      "execution_count": null,
      "metadata": {
        "colab": {
          "base_uri": "https://localhost:8080/"
        },
        "id": "SF0zm-cIpoHT",
        "outputId": "0fad4f0a-02de-4117-88e1-3a5ba31d3462"
      },
      "outputs": [],
      "source": [
        "# Assuming X_train, y_train, clf_rf are defined earlier\n",
        "\n",
        "# Collect user input for feature values\n",
        "age = int(input(\"Enter Age: \"))\n",
        "gender = input(\"Enter Gender (Male/Female): \").capitalize()  # Convert input to capitalize first letter\n",
        "tb = float(input(\"Enter Total Bilirubin (TB): \"))\n",
        "db = float(input(\"Enter Direct Bilirubin (DB): \"))\n",
        "alkphos = int(input(\"Enter Alkaline Phosphotase (Alkphos): \"))\n",
        "sgpt = int(input(\"Enter SGPT: \"))\n",
        "sgot = int(input(\"Enter SGOT: \"))\n",
        "tp = float(input(\"Enter Total Protein (TP): \"))\n",
        "alb = float(input(\"Enter Albumin (ALB): \"))\n",
        "ag_ratio = float(input(\"Enter A/G Ratio: \"))\n",
        "\n",
        "# Convert Gender to binary (0 for Male, 1 for Female)\n",
        "gender_binary = 0 if gender == 'Male' else 1\n",
        "\n",
        "# Create feature vector\n",
        "user_features = [[age, gender_binary, tb, db, alkphos, sgpt, sgot, tp, alb, ag_ratio]]\n",
        "\n",
        "# Predict using the trained model\n",
        "prediction = clf_rf.predict(user_features)\n",
        "\n",
        "# Print prediction\n",
        "if prediction[0] == 0:\n",
        "    print(\"The model predicts False (Not affected)\")\n",
        "else:\n",
        "    print(\"The model predicts True (Affected)\")\n"
      ]
    },
    {
      "cell_type": "markdown",
      "metadata": {
        "id": "5GfqtsN6yrns"
      },
      "source": [
        "---"
      ]
    }
  ],
  "metadata": {
    "colab": {
      "provenance": []
    },
    "kernelspec": {
      "display_name": "Python 3",
      "language": "python",
      "name": "python3"
    },
    "language_info": {
      "codemirror_mode": {
        "name": "ipython",
        "version": 3
      },
      "file_extension": ".py",
      "mimetype": "text/x-python",
      "name": "python",
      "nbconvert_exporter": "python",
      "pygments_lexer": "ipython3",
      "version": "3.11.4"
    }
  },
  "nbformat": 4,
  "nbformat_minor": 0
}
